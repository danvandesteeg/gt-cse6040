{
 "cells": [
  {
   "cell_type": "markdown",
   "id": "4d4bcedf-1e8d-41e6-b5df-f929fc98086e",
   "metadata": {},
   "source": [
    "## Exercise 0"
   ]
  },
  {
   "cell_type": "markdown",
   "id": "12f90ba9-4b06-4575-855b-74324ac85be0",
   "metadata": {},
   "source": [
    "(minmax_test: 1 point). Complete the function minmax(L), which takes a list L and\n",
    "returns a pair---that is, 2-element Python tuple, or \"2-tuple\"---whose first element is the minimum\n",
    "value in the list and whose second element is the maximum. For instance:\n",
    "minmax([8, 7, 2, 5, 1]) == (1, 8)"
   ]
  },
  {
   "cell_type": "code",
   "execution_count": 1,
   "id": "17c86e17-8388-4a67-9ee2-ae42e3b53f70",
   "metadata": {},
   "outputs": [],
   "source": [
    "my_list = [1,2,3,4]"
   ]
  },
  {
   "cell_type": "markdown",
   "id": "e6aed0bd-df39-412e-9da9-ae0fd033c2b7",
   "metadata": {},
   "source": [
    "type(my_list)"
   ]
  },
  {
   "cell_type": "code",
   "execution_count": 9,
   "id": "2ff99655-4d4e-4cf6-9395-69d0876b0c2f",
   "metadata": {},
   "outputs": [],
   "source": [
    "def minmax(L):\n",
    "    # verify the input is a list\n",
    "    assert isinstance(L, list), \"not good\"\n",
    "\n",
    "    return (min(L),max(L))"
   ]
  },
  {
   "cell_type": "code",
   "execution_count": 8,
   "id": "65b91527-bfd1-4e1e-98de-bdcc9b8bc24f",
   "metadata": {},
   "outputs": [
    {
     "data": {
      "text/plain": [
       "(1, 4)"
      ]
     },
     "execution_count": 8,
     "metadata": {},
     "output_type": "execute_result"
    }
   ],
   "source": [
    "minmax(my_list)"
   ]
  },
  {
   "cell_type": "markdown",
   "id": "7f1b06b1-0a5b-4049-9eab-8e784104d93f",
   "metadata": {},
   "source": [
    "**TEST CELL**"
   ]
  },
  {
   "cell_type": "code",
   "execution_count": 12,
   "id": "e6836505-618c-4f69-a74a-8bfa36c7bf20",
   "metadata": {},
   "outputs": [
    {
     "name": "stdout",
     "output_type": "stream",
     "text": [
      "minmax([8, 7, 2, 5, 1]) -> (1, 8) [True: (1, 8)]\n",
      "minmax([996, 544, 801, 865, 430, 728, 371, 642, 746, 212]) -> (212, 996) [True: (212, 996)]\n",
      "\n",
      "(Passed!)\n"
     ]
    }
   ],
   "source": [
    "L = [8, 7, 2, 5, 1]\n",
    "mmL = minmax(L)\n",
    "mmL_true = (1, 8)\n",
    "print(\"minmax({}) -> {} [True: {}]\".format(L, mmL, mmL_true))\n",
    "assert type(mmL) is tuple and mmL == (1, 8)\n",
    "from random import sample\n",
    "L = sample(range(1000), 10)\n",
    "mmL = minmax(L)\n",
    "L_s = sorted(L)\n",
    "mmL_true = (L_s[0], L_s[-1])\n",
    "print(\"minmax({}) -> {} [True: {}]\".format(L, mmL, mmL_true))\n",
    "assert mmL == mmL_true\n",
    "print(\"\\n(Passed!)\")"
   ]
  },
  {
   "cell_type": "markdown",
   "id": "5d66c380-035b-4980-9afd-7d3c2f416dde",
   "metadata": {},
   "source": [
    "## Exercise 1"
   ]
  },
  {
   "cell_type": "markdown",
   "id": "0de3216e-fdb1-4895-8923-0409bf07b1a0",
   "metadata": {},
   "source": [
    "(remove_all_test: 2 points). Complete the function remove_all(L, x) so that,\n",
    "given a list L and a target value x, it returns a copy of the list that excludes all occurrences of x but\n",
    "preserves the order of the remaining elements. For instance:\n",
    "remove_all([1, 2, 3, 2, 4, 8, 2], 2) == [1, 3, 4, 8]\n",
    "Note. Your implementation should not modify the list being passed into remove_all."
   ]
  },
  {
   "cell_type": "code",
   "execution_count": 21,
   "id": "d0008946-2e32-409f-864d-215a78df163a",
   "metadata": {},
   "outputs": [],
   "source": [
    "def remove_all(L,x):\n",
    "    from numbers import Number\n",
    "    assert isinstance(L,list), \"that's wrong pimp\"\n",
    "    assert isinstance(x,Number), \"that's not a number\"\n",
    "\n",
    "    results = [item for item in L if item != x]\n",
    "    \n",
    "    return results"
   ]
  },
  {
   "cell_type": "code",
   "execution_count": 22,
   "id": "2aaf149c-8a9d-421d-a165-c262effdfe0c",
   "metadata": {},
   "outputs": [
    {
     "data": {
      "text/plain": [
       "[1, 3, 4, 8]"
      ]
     },
     "execution_count": 22,
     "metadata": {},
     "output_type": "execute_result"
    }
   ],
   "source": [
    "remove_all([1, 2, 3, 2, 4, 8, 2], 2)"
   ]
  },
  {
   "cell_type": "markdown",
   "id": "0bbfa9e0-3fd2-47e8-bb89-2282ddbee6b1",
   "metadata": {},
   "source": [
    "**TEST CELL**"
   ]
  },
  {
   "cell_type": "code",
   "execution_count": 24,
   "id": "7a7b8b74-5749-4ddd-83ef-eacb57e6dcda",
   "metadata": {},
   "outputs": [],
   "source": [
    "def test_it(L, x, L_ans):\n",
    "    print(\"Testing `remove_all({}, {})`...\".format(L, x))\n",
    "    print(\"\\tTrue solution: {}\".format(L_ans))\n",
    "    L_copy = L.copy()\n",
    "    L_rem = remove_all(L_copy, x)\n",
    "    print(\"\\tYour computed solution: {}\".format(L_rem))\n",
    "    assert L_copy == L, \"Your code appears to modify the input list.\"\n",
    "    assert L_rem == L_ans, \"The returned list is incorrect.\""
   ]
  },
  {
   "cell_type": "code",
   "execution_count": 25,
   "id": "2a399026-3c0e-49c9-86ed-76c9df9f2473",
   "metadata": {},
   "outputs": [
    {
     "name": "stdout",
     "output_type": "stream",
     "text": [
      "Testing `remove_all([1, 2, 3, 2, 4, 8, 2], 2)`...\n",
      "\tTrue solution: [1, 3, 4, 8]\n",
      "\tYour computed solution: [1, 3, 4, 8]\n"
     ]
    }
   ],
   "source": [
    "# Test 1: Example\n",
    "test_it([1, 2, 3, 2, 4, 8, 2], 2, [1, 3, 4, 8])"
   ]
  },
  {
   "cell_type": "code",
   "execution_count": 26,
   "id": "1a91733c-ead3-49b8-87e6-a7082feb01ac",
   "metadata": {},
   "outputs": [
    {
     "name": "stdout",
     "output_type": "stream",
     "text": [
      "Testing `remove_all([3, 5, 4, 2, 4, 3, 6, 6, 0, 1, 0, 0, 6, 8, 1, 7, 3, 4, 7, 6], 8)`...\n",
      "\tTrue solution: [3, 5, 4, 2, 4, 3, 6, 6, 0, 1, 0, 0, 6, 1, 7, 3, 4, 7, 6]\n",
      "\tYour computed solution: [3, 5, 4, 2, 4, 3, 6, 6, 0, 1, 0, 0, 6, 1, 7, 3, 4, 7, 6]\n",
      "\n",
      "(Passed!)\n"
     ]
    }
   ],
   "source": [
    "# Test 2: Random list\n",
    "from random import randint\n",
    "target = randint(0, 9)\n",
    "L_input = []\n",
    "L_ans = []\n",
    "for _ in range(20):\n",
    "    v = randint(0, 9)\n",
    "    L_input.append(v)\n",
    "    if v != target:\n",
    "        L_ans.append(v)\n",
    "test_it(L_input, target, L_ans)\n",
    "print(\"\\n(Passed!)\")"
   ]
  },
  {
   "cell_type": "code",
   "execution_count": null,
   "id": "9a6bbcff-38eb-441d-8362-49cb9cd18018",
   "metadata": {},
   "outputs": [],
   "source": []
  }
 ],
 "metadata": {
  "kernelspec": {
   "display_name": "Python (py_gt_env)",
   "language": "python",
   "name": "py_gt_env"
  },
  "language_info": {
   "codemirror_mode": {
    "name": "ipython",
    "version": 3
   },
   "file_extension": ".py",
   "mimetype": "text/x-python",
   "name": "python",
   "nbconvert_exporter": "python",
   "pygments_lexer": "ipython3",
   "version": "3.13.1"
  }
 },
 "nbformat": 4,
 "nbformat_minor": 5
}
