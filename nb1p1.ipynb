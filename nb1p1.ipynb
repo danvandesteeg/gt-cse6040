{
 "cells": [
  {
   "cell_type": "markdown",
   "id": "4d4bcedf-1e8d-41e6-b5df-f929fc98086e",
   "metadata": {},
   "source": [
    "## Exercise 0"
   ]
  },
  {
   "cell_type": "markdown",
   "id": "12f90ba9-4b06-4575-855b-74324ac85be0",
   "metadata": {},
   "source": [
    "(minmax_test: 1 point). Complete the function minmax(L), which takes a list L and\n",
    "returns a pair---that is, 2-element Python tuple, or \"2-tuple\"---whose first element is the minimum\n",
    "value in the list and whose second element is the maximum. For instance:\n",
    "minmax([8, 7, 2, 5, 1]) == (1, 8)"
   ]
  },
  {
   "cell_type": "code",
   "execution_count": 1,
   "id": "17c86e17-8388-4a67-9ee2-ae42e3b53f70",
   "metadata": {},
   "outputs": [],
   "source": [
    "my_list = [1,2,3,4]"
   ]
  },
  {
   "cell_type": "markdown",
   "id": "e6aed0bd-df39-412e-9da9-ae0fd033c2b7",
   "metadata": {},
   "source": [
    "type(my_list)"
   ]
  },
  {
   "cell_type": "code",
   "execution_count": 2,
   "id": "2ff99655-4d4e-4cf6-9395-69d0876b0c2f",
   "metadata": {},
   "outputs": [],
   "source": [
    "def minmax(L):\n",
    "    # verify the input is a list\n",
    "    assert isinstance(L, list), \"not good\"\n",
    "\n",
    "    return (min(L),max(L))"
   ]
  },
  {
   "cell_type": "code",
   "execution_count": 3,
   "id": "65b91527-bfd1-4e1e-98de-bdcc9b8bc24f",
   "metadata": {},
   "outputs": [
    {
     "data": {
      "text/plain": [
       "(1, 4)"
      ]
     },
     "execution_count": 3,
     "metadata": {},
     "output_type": "execute_result"
    }
   ],
   "source": [
    "minmax(my_list)"
   ]
  },
  {
   "cell_type": "markdown",
   "id": "7f1b06b1-0a5b-4049-9eab-8e784104d93f",
   "metadata": {},
   "source": [
    "**TEST CELL**"
   ]
  },
  {
   "cell_type": "code",
   "execution_count": 4,
   "id": "e6836505-618c-4f69-a74a-8bfa36c7bf20",
   "metadata": {},
   "outputs": [
    {
     "name": "stdout",
     "output_type": "stream",
     "text": [
      "minmax([8, 7, 2, 5, 1]) -> (1, 8) [True: (1, 8)]\n",
      "minmax([464, 726, 333, 857, 495, 73, 362, 259, 858, 990]) -> (73, 990) [True: (73, 990)]\n",
      "\n",
      "(Passed!)\n"
     ]
    }
   ],
   "source": [
    "L = [8, 7, 2, 5, 1]\n",
    "mmL = minmax(L)\n",
    "mmL_true = (1, 8)\n",
    "print(\"minmax({}) -> {} [True: {}]\".format(L, mmL, mmL_true))\n",
    "assert type(mmL) is tuple and mmL == (1, 8)\n",
    "from random import sample\n",
    "L = sample(range(1000), 10)\n",
    "mmL = minmax(L)\n",
    "L_s = sorted(L)\n",
    "mmL_true = (L_s[0], L_s[-1])\n",
    "print(\"minmax({}) -> {} [True: {}]\".format(L, mmL, mmL_true))\n",
    "assert mmL == mmL_true\n",
    "print(\"\\n(Passed!)\")"
   ]
  },
  {
   "cell_type": "markdown",
   "id": "5d66c380-035b-4980-9afd-7d3c2f416dde",
   "metadata": {},
   "source": [
    "## Exercise 1"
   ]
  },
  {
   "cell_type": "markdown",
   "id": "0de3216e-fdb1-4895-8923-0409bf07b1a0",
   "metadata": {},
   "source": [
    "(remove_all_test: 2 points). Complete the function remove_all(L, x) so that,\n",
    "given a list L and a target value x, it returns a copy of the list that excludes all occurrences of x but\n",
    "preserves the order of the remaining elements. For instance:\n",
    "remove_all([1, 2, 3, 2, 4, 8, 2], 2) == [1, 3, 4, 8]\n",
    "Note. Your implementation should not modify the list being passed into remove_all."
   ]
  },
  {
   "cell_type": "code",
   "execution_count": 5,
   "id": "d0008946-2e32-409f-864d-215a78df163a",
   "metadata": {},
   "outputs": [],
   "source": [
    "def remove_all(L,x):\n",
    "    from numbers import Number\n",
    "    assert isinstance(L,list), \"that's wrong pimp\"\n",
    "    assert isinstance(x,Number), \"that's not a number\"\n",
    "\n",
    "    results = [item for item in L if item != x]\n",
    "    \n",
    "    return results"
   ]
  },
  {
   "cell_type": "code",
   "execution_count": 6,
   "id": "2aaf149c-8a9d-421d-a165-c262effdfe0c",
   "metadata": {},
   "outputs": [
    {
     "data": {
      "text/plain": [
       "[1, 3, 4, 8]"
      ]
     },
     "execution_count": 6,
     "metadata": {},
     "output_type": "execute_result"
    }
   ],
   "source": [
    "remove_all([1, 2, 3, 2, 4, 8, 2], 2)"
   ]
  },
  {
   "cell_type": "markdown",
   "id": "0bbfa9e0-3fd2-47e8-bb89-2282ddbee6b1",
   "metadata": {},
   "source": [
    "**TEST CELL**"
   ]
  },
  {
   "cell_type": "code",
   "execution_count": 7,
   "id": "7a7b8b74-5749-4ddd-83ef-eacb57e6dcda",
   "metadata": {},
   "outputs": [],
   "source": [
    "def test_it(L, x, L_ans):\n",
    "    print(\"Testing `remove_all({}, {})`...\".format(L, x))\n",
    "    print(\"\\tTrue solution: {}\".format(L_ans))\n",
    "    L_copy = L.copy()\n",
    "    L_rem = remove_all(L_copy, x)\n",
    "    print(\"\\tYour computed solution: {}\".format(L_rem))\n",
    "    assert L_copy == L, \"Your code appears to modify the input list.\"\n",
    "    assert L_rem == L_ans, \"The returned list is incorrect.\""
   ]
  },
  {
   "cell_type": "code",
   "execution_count": 8,
   "id": "2a399026-3c0e-49c9-86ed-76c9df9f2473",
   "metadata": {},
   "outputs": [
    {
     "name": "stdout",
     "output_type": "stream",
     "text": [
      "Testing `remove_all([1, 2, 3, 2, 4, 8, 2], 2)`...\n",
      "\tTrue solution: [1, 3, 4, 8]\n",
      "\tYour computed solution: [1, 3, 4, 8]\n"
     ]
    }
   ],
   "source": [
    "# Test 1: Example\n",
    "test_it([1, 2, 3, 2, 4, 8, 2], 2, [1, 3, 4, 8])"
   ]
  },
  {
   "cell_type": "code",
   "execution_count": 9,
   "id": "1a91733c-ead3-49b8-87e6-a7082feb01ac",
   "metadata": {},
   "outputs": [
    {
     "name": "stdout",
     "output_type": "stream",
     "text": [
      "Testing `remove_all([4, 2, 5, 6, 5, 0, 7, 5, 4, 8, 7, 3, 1, 4, 8, 0, 5, 2, 9, 2], 0)`...\n",
      "\tTrue solution: [4, 2, 5, 6, 5, 7, 5, 4, 8, 7, 3, 1, 4, 8, 5, 2, 9, 2]\n",
      "\tYour computed solution: [4, 2, 5, 6, 5, 7, 5, 4, 8, 7, 3, 1, 4, 8, 5, 2, 9, 2]\n",
      "\n",
      "(Passed!)\n"
     ]
    }
   ],
   "source": [
    "# Test 2: Random list\n",
    "from random import randint\n",
    "target = randint(0, 9)\n",
    "L_input = []\n",
    "L_ans = []\n",
    "for _ in range(20):\n",
    "    v = randint(0, 9)\n",
    "    L_input.append(v)\n",
    "    if v != target:\n",
    "        L_ans.append(v)\n",
    "test_it(L_input, target, L_ans)\n",
    "print(\"\\n(Passed!)\")"
   ]
  },
  {
   "cell_type": "markdown",
   "id": "dfbfbecc-f58d-4d7c-b6ed-0a916280052b",
   "metadata": {},
   "source": [
    "## Exercise 2"
   ]
  },
  {
   "cell_type": "markdown",
   "id": "3b778829-c4f4-4cd3-b059-b68b9afba5b9",
   "metadata": {},
   "source": [
    "(compress_vector_test: 2 points). Suppose you are given a vector, x, containing\n",
    "real values that are mostly zero. \n",
    "\n",
    "For instance:\n",
    "x = [0.0, 0.87, 0.0, 0.0, 0.0, 0.32, 0.46, 0.0, 0.0, 0.10, 0.0, 0.0]\n",
    "\n",
    "\n",
    "Complete the function, compress_vector(x), so that returns a dictionary d with two keys,\n",
    "d['inds'] and d['vals'], which are lists that indicate the position and value of all the non-zero\n",
    "entries of x. For the previous example,\n",
    "d['inds'] = [1, 5, 6, 9]\n",
    "d['vals'] = [0.87, 0.32, 0.46, 0.10]\n",
    "Note 1. Your implementation must not modify the input vector x.\n",
    "Note 2. If x contains only zero entries, d['inds'] and d['vals'] should be empty\n",
    "lists."
   ]
  },
  {
   "cell_type": "code",
   "execution_count": 10,
   "id": "85f2e2f4-9744-4417-a94e-471009af4243",
   "metadata": {},
   "outputs": [],
   "source": [
    "def compress_vector(x):\n",
    "    from numbers import Number\n",
    "    assert isinstance(x,list), \"that's not a list bro bro\"\n",
    "    for item in x:\n",
    "        assert isinstance(item, Number), \"that's not a number bro\"\n",
    "\n",
    "    d = {'inds': [], 'vals': []}\n",
    "\n",
    "    for inds,vals in enumerate(x):\n",
    "        if vals != 0:\n",
    "            d['inds'].append(inds)\n",
    "            d['vals'].append(vals)\n",
    "\n",
    "    return d"
   ]
  },
  {
   "cell_type": "markdown",
   "id": "a195955a-62f1-460e-9e97-62fa4d42e4d8",
   "metadata": {},
   "source": [
    "**TEST CELL**"
   ]
  },
  {
   "cell_type": "code",
   "execution_count": 11,
   "id": "a83d5a5f-fd04-4687-9942-260c433f0954",
   "metadata": {},
   "outputs": [],
   "source": [
    "def check_compress_vector(x_orig):\n",
    "    print(\"Testing `compress_vector(x={})`:\".format(x_orig))\n",
    "    x = x_orig.copy()\n",
    "    nz = x.count(0.0)\n",
    "    print(\"\\t`x` has {} zero entries.\".format(nz))\n",
    "    d = compress_vector(x)\n",
    "    print(\"\\tx (after call): {}\".format(x))\n",
    "    print(\"\\td: {}\".format(d))\n",
    "    assert x == x_orig, \"Your implementation appears to modify the input.\"\n",
    "    assert type(d) is dict, \"Output type is not `dict` (a dictionary).\"\n",
    "    assert 'inds' in d and type(d['inds']) is list, \"Output key, 'inds', does not have the correct type (list).\"\n",
    "    assert 'vals' in d and type(d['vals']) is list, \"Output key, 'vals', does not have the correct type (list).\"\n",
    "    assert len(d['inds']) == len(d['vals']), \"`d['inds']` and `d['vals']` must have the same length.\"\n",
    "    for i, v in zip(d['inds'], d['vals']):\n",
    "        assert x[i] == v, \"x[{}] == {} instead of {}\".format(i, x[i], v)\n",
    "    assert nz + len(d['vals']) == len(x), \"Output may be missing values.\"\n",
    "    assert len(d.keys()) == 2, \"Output may have keys other than 'inds' and 'vals'.\""
   ]
  },
  {
   "cell_type": "code",
   "execution_count": 12,
   "id": "4c6ada0a-b3f1-4356-aee1-b258fc39ac8c",
   "metadata": {},
   "outputs": [
    {
     "name": "stdout",
     "output_type": "stream",
     "text": [
      "Testing `compress_vector(x=[0.0, 0.87, 0.0, 0.0, 0.0, 0.32, 0.46, 0.0, 0.0, 0.1, 0.0, 0.0])`:\n",
      "\t`x` has 8 zero entries.\n",
      "\tx (after call): [0.0, 0.87, 0.0, 0.0, 0.0, 0.32, 0.46, 0.0, 0.0, 0.1, 0.0, 0.0]\n",
      "\td: {'inds': [1, 5, 6, 9], 'vals': [0.87, 0.32, 0.46, 0.1]}\n"
     ]
    }
   ],
   "source": [
    "# Test 1: Example\n",
    "x = [0.0, 0.87, 0.0, 0.0, 0.0, 0.32, 0.46, 0.0, 0.0, 0.10, 0.0, 0.0]\n",
    "check_compress_vector(x)"
   ]
  },
  {
   "cell_type": "code",
   "execution_count": 13,
   "id": "7319f4fc-2332-4d20-9908-22bac4e2bf69",
   "metadata": {},
   "outputs": [
    {
     "name": "stdout",
     "output_type": "stream",
     "text": [
      "\n",
      "Testing `compress_vector(x=[0.0, 0.0, 0.15, 0.0, 0.0, 0.0, 0.0, 0.0, 0.94, 0.0, 0.0, 0.37, 0.64, 0.0, 0.0, 0.0, 0.0, 0.0, 0.0, 0.0])`:\n",
      "\t`x` has 16 zero entries.\n",
      "\tx (after call): [0.0, 0.0, 0.15, 0.0, 0.0, 0.0, 0.0, 0.0, 0.94, 0.0, 0.0, 0.37, 0.64, 0.0, 0.0, 0.0, 0.0, 0.0, 0.0, 0.0]\n",
      "\td: {'inds': [2, 8, 11, 12], 'vals': [0.15, 0.94, 0.37, 0.64]}\n",
      "\n",
      "Testing `compress_vector(x=[0.62, 0.0, 0.57, 0.65, 0.0, 0.0, 0.0, 0.0, 0.68, 0.5, 0.0, 0.0, 0.0, 0.0, 0.0, 0.0, 0.0, 0.0, 0.0, 0.0])`:\n",
      "\t`x` has 15 zero entries.\n",
      "\tx (after call): [0.62, 0.0, 0.57, 0.65, 0.0, 0.0, 0.0, 0.0, 0.68, 0.5, 0.0, 0.0, 0.0, 0.0, 0.0, 0.0, 0.0, 0.0, 0.0, 0.0]\n",
      "\td: {'inds': [0, 2, 3, 8, 9], 'vals': [0.62, 0.57, 0.65, 0.68, 0.5]}\n",
      "\n",
      "Testing `compress_vector(x=[0.0, 0.0, 0.86, 0.0, 0.0, 0.0, 0.0, 0.0, 0.0, 0.88, 0.93, 0.0, 0.0, 0.0, 0.0, 0.0, 0.0, 0.0, 0.53, 0.0])`:\n",
      "\t`x` has 16 zero entries.\n",
      "\tx (after call): [0.0, 0.0, 0.86, 0.0, 0.0, 0.0, 0.0, 0.0, 0.0, 0.88, 0.93, 0.0, 0.0, 0.0, 0.0, 0.0, 0.0, 0.0, 0.53, 0.0]\n",
      "\td: {'inds': [2, 9, 10, 18], 'vals': [0.86, 0.88, 0.93, 0.53]}\n"
     ]
    }
   ],
   "source": [
    "# Test 2: Random sparse vectors\n",
    "from random import random\n",
    "for _ in range(3):\n",
    "    print(\"\")\n",
    "    x = []\n",
    "    for _ in range(20):\n",
    "        if random() <= 0.8: # Make about 10% of entries zero\n",
    "            v = 0.0\n",
    "        else:\n",
    "            v = float(\"{:.2f}\".format(random()))\n",
    "        x.append(v)\n",
    "    check_compress_vector(x)"
   ]
  },
  {
   "cell_type": "code",
   "execution_count": 14,
   "id": "e3bfebba-e535-400c-8cc6-98ab252a4222",
   "metadata": {},
   "outputs": [
    {
     "name": "stdout",
     "output_type": "stream",
     "text": [
      "Testing `compress_vector(x=[0.0, 0.0, 0.0, 0.0, 0.0, 0.0, 0.0, 0.0, 0.0, 0.0])`:\n",
      "\t`x` has 10 zero entries.\n",
      "\tx (after call): [0.0, 0.0, 0.0, 0.0, 0.0, 0.0, 0.0, 0.0, 0.0, 0.0]\n",
      "\td: {'inds': [], 'vals': []}\n",
      "\n",
      "(Passed!)\n"
     ]
    }
   ],
   "source": [
    "# Test 3: Empty vector\n",
    "x = [0.0] * 10\n",
    "check_compress_vector(x)\n",
    "print(\"\\n(Passed!)\")"
   ]
  },
  {
   "cell_type": "markdown",
   "id": "53bf165c-3841-44fe-ae7b-49fa682092ab",
   "metadata": {},
   "source": [
    "## Exercise 4"
   ]
  },
  {
   "cell_type": "markdown",
   "id": "3da352b9-38ac-433f-98b6-1da3ab121329",
   "metadata": {},
   "source": [
    "find_common_inds_test: 1 point). Suppose you are given two compressed vectors,\n",
    "d1 and d2, each represented as described above and possibly with repeated indices. Complete the\n",
    "function find_common_inds(d1, d2) so that it returns a list of the indices they have in common.\n",
    "\n",
    "For instance, suppose:\n",
    "d1 == {'inds': [9, 9, 1, 9, 8, 1], 'vals': [0.28, 0.84, 0.71, 0.03, 0.04, 0.75]}\n",
    "d2 == {'inds': [0, 9, 9, 1, 3, 3, 9], 'vals': [0.26, 0.06, 0.46, 0.58, 0.42, 0.21, 0.53, 0\n",
    "\n",
    "Then:\n",
    "\n",
    "find_common_inds(d1, d2) == [1, 9]\n",
    "\n",
    "Note 1. The returned list must not have duplicate indices, even if the inputs do. In the\n",
    "example, the index 9 is repeated in both d1 and d2, but the output includes just one 9.\n",
    "\n",
    "Note 2. In the returned list, the order of indices does not matter. For instance, the\n",
    "example shows [1, 9] but [9, 1] would also be valid."
   ]
  },
  {
   "cell_type": "code",
   "execution_count": 15,
   "id": "34fa4f41-4e75-41c7-a03c-2342c075aff4",
   "metadata": {},
   "outputs": [],
   "source": [
    "def find_common_inds(d1,d2):\n",
    "\n",
    "    assert isinstance(d1,dict), \"not a dictionary bro bro\"\n",
    "    assert isinstance(d2,dict), \"not a dictionary bro bro\"\n",
    "\n",
    "    set1 = set(d1['inds'])\n",
    "    set2 = set(d2['inds'])\n",
    "\n",
    "    results = [item for item in set1 if item in set2]\n",
    "\n",
    "    return results"
   ]
  },
  {
   "cell_type": "code",
   "execution_count": 16,
   "id": "c3c6ea08-47d5-497b-b0e3-442030d67c69",
   "metadata": {},
   "outputs": [],
   "source": [
    "def check_find_common_inds(d1, d2, ans):\n",
    "    print(\"Testing `check_find_common_inds(d1, d2, ans)`:\")\n",
    "    print(\"\\td1: {}\".format(d1))\n",
    "    print(\"\\td2: {}\".format(d2))\n",
    "    print(\"\\texpected ans: {}\".format(ans))\n",
    "    common = find_common_inds(d1, d2)\n",
    "    print(\"\\tcomputed common: {}\".format(common))\n",
    "    assert type(common) is list\n",
    "    assert sorted(common) == sorted(ans), \"Answers do not match.\""
   ]
  },
  {
   "cell_type": "code",
   "execution_count": 17,
   "id": "2ae00642-b38a-4e68-8834-20e10c264576",
   "metadata": {},
   "outputs": [
    {
     "name": "stdout",
     "output_type": "stream",
     "text": [
      "Testing `check_find_common_inds(d1, d2, ans)`:\n",
      "\td1: {'inds': [9, 9, 1, 9, 8, 1], 'vals': [0.28, 0.84, 0.71, 0.03, 0.04, 0.75]}\n",
      "\td2: {'inds': [0, 9, 9, 1, 3, 3, 9], 'vals': [0.26, 0.06, 0.46, 0.58, 0.42, 0.21, 0.53]}\n",
      "\texpected ans: [1, 9]\n",
      "\tcomputed common: [9, 1]\n"
     ]
    }
   ],
   "source": [
    "# Test 1: Example\n",
    "d1 = {'inds': [9, 9, 1, 9, 8, 1], 'vals': [0.28, 0.84, 0.71, 0.03, 0.04, 0.75]}\n",
    "d2 = {'inds': [0, 9, 9, 1, 3, 3, 9], 'vals': [0.26, 0.06, 0.46, 0.58, 0.42, 0.21, 0.53]}\n",
    "ans = [1, 9]\n",
    "check_find_common_inds(d1, d2, ans)"
   ]
  },
  {
   "cell_type": "code",
   "execution_count": 18,
   "id": "be8bbb09-0c85-423a-bd87-4cab661740a7",
   "metadata": {},
   "outputs": [
    {
     "name": "stdout",
     "output_type": "stream",
     "text": [
      "\n",
      "Testing `check_find_common_inds(d1, d2, ans)`:\n",
      "\td1: {'inds': [17, 8, 14, 7, 0, 1, 6, 1, 6, 5, 6, 4, 17, 5, 4, 5, 19, 14, 17, 14], 'vals': [0.8, 0.4, 0.7, 0.7, 0.4, 0.0, 0.2, 0.4, 0.7, 0.9, 0.4, 0.4, 0.7, 0.3, 0.4, 0.5, 0.6, 0.6, 0.9, 0.4]}\n",
      "\td2: {'inds': [13, 9, 9, 15, 9, 5, 3, 12, 10, 8, 15, 15, 11, 5, 10, 8, 3, 8, 2, 10, 5], 'vals': [0.2, 0.0, 0.4, 0.7, 1.0, 0.3, 0.4, 0.7, 0.3, 0.6, 0.5, 0.4, 0.4, 0.3, 0.2, 0.6, 0.5, 0.3, 0.7, 0.2, 0.7]}\n",
      "\texpected ans: [5, 8]\n",
      "\tcomputed common: [5, 8]\n",
      "\n",
      "Testing `check_find_common_inds(d1, d2, ans)`:\n",
      "\td1: {'inds': [7, 7, 10, 1, 4, 4, 12, 1, 6, 5, 17, 17, 12, 2, 4, 5, 17, 10, 12, 10, 18], 'vals': [0.1, 0.7, 0.3, 0.7, 0.3, 0.7, 0.5, 0.6, 0.8, 0.9, 0.8, 0.8, 0.3, 0.4, 0.1, 1.0, 0.3, 0.9, 0.0, 0.6, 0.6]}\n",
      "\td2: {'inds': [19, 14, 11, 14, 9, 16, 0, 13, 19, 9, 15, 13, 8, 3, 14, 0, 0, 13, 11], 'vals': [0.6, 0.4, 0.3, 0.3, 0.4, 0.2, 0.9, 0.2, 0.9, 0.1, 0.2, 0.0, 0.1, 1.0, 0.3, 0.7, 0.7, 0.8, 0.2]}\n",
      "\texpected ans: []\n",
      "\tcomputed common: []\n",
      "\n",
      "Testing `check_find_common_inds(d1, d2, ans)`:\n",
      "\td1: {'inds': [19, 10, 7, 7, 0, 18, 14, 12, 5, 14, 7, 14, 17, 19, 17, 18, 0, 0, 17, 8, 12], 'vals': [0.7, 0.7, 0.2, 0.3, 0.5, 0.8, 0.1, 0.2, 0.8, 0.7, 0.8, 0.8, 0.7, 0.4, 0.9, 0.4, 0.7, 0.4, 0.5, 0.4, 0.3]}\n",
      "\td2: {'inds': [11, 1, 0, 11, 7, 9, 4, 4, 7, 4, 9, 6, 15, 16, 0, 13, 7, 13, 0], 'vals': [0.1, 0.3, 0.9, 0.4, 0.8, 0.3, 0.2, 0.8, 0.1, 1.0, 0.8, 0.7, 0.4, 0.0, 0.3, 0.8, 0.5, 0.2, 0.0]}\n",
      "\texpected ans: [0, 7]\n",
      "\tcomputed common: [0, 7]\n",
      "\n",
      "Testing `check_find_common_inds(d1, d2, ans)`:\n",
      "\td1: {'inds': [10, 0, 5, 10, 9, 6, 17, 6, 0, 17, 14, 3, 10, 11, 11, 3, 4, 11], 'vals': [0.5, 0.9, 0.3, 0.6, 0.4, 0.2, 0.5, 0.0, 0.1, 0.6, 0.6, 0.9, 0.9, 0.1, 0.4, 0.5, 0.2, 0.5]}\n",
      "\td2: {'inds': [1, 4, 1, 2, 11, 15, 18, 16, 4, 15, 12, 16, 18, 7, 2, 8, 2, 18, 11, 1], 'vals': [0.2, 0.7, 0.9, 0.6, 0.5, 0.8, 0.4, 0.1, 0.0, 0.2, 0.5, 0.5, 0.7, 0.5, 0.9, 0.2, 0.3, 0.7, 0.4, 0.5]}\n",
      "\texpected ans: [4, 11]\n",
      "\tcomputed common: [4, 11]\n",
      "\n",
      "Testing `check_find_common_inds(d1, d2, ans)`:\n",
      "\td1: {'inds': [0, 11, 5, 1, 16, 5, 1, 16, 9, 17, 2, 2, 6, 17, 10, 5, 6, 0, 2], 'vals': [0.8, 1.0, 0.3, 0.4, 0.4, 0.9, 0.4, 0.3, 0.8, 0.9, 0.4, 0.5, 0.5, 0.5, 0.5, 0.9, 0.5, 1.0, 0.5]}\n",
      "\td2: {'inds': [9, 4, 8, 12, 7, 18, 9, 14, 7, 3, 8, 8, 13, 19, 12, 3, 18], 'vals': [0.9, 0.5, 0.4, 0.2, 0.6, 0.2, 0.8, 0.8, 0.1, 0.4, 0.6, 0.5, 0.9, 0.8, 0.4, 0.4, 0.6]}\n",
      "\texpected ans: [9]\n",
      "\tcomputed common: [9]\n",
      "\n",
      "(Passed!)\n"
     ]
    }
   ],
   "source": [
    "from random import random, randrange, sample, shuffle\n",
    "\n",
    "p_common = 0.2\n",
    "for _ in range(5):\n",
    "    print(\"\")\n",
    "    n_min = 10\n",
    "    x = sample(range(2 * n_min), 2 * n_min)\n",
    "    i1, i2 = x[:n_min], x[n_min:]\n",
    "    inds1, inds2 = [], []\n",
    "    ans = []\n",
    "    \n",
    "    for k, i in enumerate(i1):\n",
    "        if random() <= p_common:\n",
    "            i2[k] = i\n",
    "            ans.append(i)\n",
    "        inds1.extend([i] * randrange(1, 4))\n",
    "        inds2.extend([i2[k]] * randrange(1, 4))\n",
    "    \n",
    "    shuffle(inds1)\n",
    "    d1 = {'inds': inds1, 'vals': [float(\"{:.1f}\".format(random())) for _ in range(len(inds1))]}\n",
    "    shuffle(inds2)\n",
    "    d2 = {'inds': inds2, 'vals': [float(\"{:.1f}\".format(random())) for _ in range(len(inds2))]}\n",
    "    \n",
    "    check_find_common_inds(d1, d2, ans)\n",
    "\n",
    "print(\"\\n(Passed!)\")"
   ]
  }
 ],
 "metadata": {
  "kernelspec": {
   "display_name": "Python (py_gt_env)",
   "language": "python",
   "name": "py_gt_env"
  },
  "language_info": {
   "codemirror_mode": {
    "name": "ipython",
    "version": 3
   },
   "file_extension": ".py",
   "mimetype": "text/x-python",
   "name": "python",
   "nbconvert_exporter": "python",
   "pygments_lexer": "ipython3",
   "version": "3.13.1"
  }
 },
 "nbformat": 4,
 "nbformat_minor": 5
}
