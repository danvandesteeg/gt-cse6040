{
 "cells": [
  {
   "cell_type": "markdown",
   "id": "0666fe8b-9b1d-418c-b729-f980d88752d4",
   "metadata": {},
   "source": [
    "0-basics\n",
    "\n",
    "1 Python review: Values, variables, types, lists, and strings\n",
    "These first few notebooks are a set of exercises designed to reinforce various aspects of Python\n",
    "programming.\n",
    "Study hint: Read the test code! You’ll notice that most of the exercises below have a place for\n",
    "you to code up your answer followed by a \"test cell.\" That’s a code cell that checks the output of\n",
    "your code to see whether it appears to produce correct results. You can often learn a lot by reading\n",
    "the test code. In fact, sometimes it gives you a hint about how to approach the problem. As such,\n",
    "we encourage you to try to read the test cells even if they seem cryptic, which is deliberate!\n",
    "Debugging tip: Read assertions. The test cells often run an assert statement to see whether\n",
    "some condition that it thinks should be true is true. If an assertion fails, look at the condition being\n",
    "checked and use that as a guide to help you debug. For example, if an assertion reads, assert a\n",
    "+ b == 3, and that fails, inspect the values and types of a and b to help determine why their sum\n",
    "does not equal 3.\n",
    "Exercise 0 (1 point). Run the code cell below. It should display the output string, Hello,\n",
    "world!."
   ]
  },
  {
   "cell_type": "code",
   "execution_count": 1,
   "id": "56ea0fcd-fa05-40a1-8f58-5394064d7351",
   "metadata": {},
   "outputs": [
    {
     "name": "stdout",
     "output_type": "stream",
     "text": [
      "Hello, world!\n"
     ]
    }
   ],
   "source": [
    "print(\"Hello, world!\")"
   ]
  },
  {
   "cell_type": "markdown",
   "id": "3a7e7337-5f91-4d90-9cd9-a8f0737e05d8",
   "metadata": {},
   "source": [
    "## Exercise 1"
   ]
  },
  {
   "cell_type": "markdown",
   "id": "4ba894f1-4c5e-4174-ad97-559edf70c868",
   "metadata": {},
   "source": [
    "(x_float_test: 1 point). Create a variable named x_float whose numerical value\n",
    "is one (1) and whose type is floating-point (i.e., float)."
   ]
  },
  {
   "cell_type": "code",
   "execution_count": 2,
   "id": "73e0c880-78f2-4410-a499-9b69a3e99b14",
   "metadata": {},
   "outputs": [],
   "source": [
    "x_float = 1.00"
   ]
  },
  {
   "cell_type": "markdown",
   "id": "37adc593-6c47-4883-8d33-ad9bbac45acf",
   "metadata": {},
   "source": [
    "**TEST CELL**"
   ]
  },
  {
   "cell_type": "code",
   "execution_count": 77,
   "id": "89b9ad35-65ea-41d3-b0ca-cc129d6bab51",
   "metadata": {},
   "outputs": [
    {
     "name": "stdout",
     "output_type": "stream",
     "text": [
      "(Passed!)\n"
     ]
    }
   ],
   "source": [
    "assert x_float == 1, f\"`x_float` has the wrong value ({x_float} rather than 1.0)\"\n",
    "assert type(x_float) is float,  f\"`type(x_float)` == {type(x_float)} rather than `float`\"\n",
    "print(\"(Passed!)\")"
   ]
  },
  {
   "cell_type": "markdown",
   "id": "e3482013-1a98-4a38-b423-081deb472b1a",
   "metadata": {},
   "source": [
    "## Exercise 2"
   ]
  },
  {
   "cell_type": "markdown",
   "id": "d827c0eb-c8e3-4337-9181-84cab145c589",
   "metadata": {},
   "source": [
    "(strcat_ba_test: 1 point). Complete the following function, strcat_ba(a, b), so\n",
    "that given two strings, a and b, it returns the concatenation of b followed by a (pay attention to\n",
    "the order in these instructions!)."
   ]
  },
  {
   "cell_type": "code",
   "execution_count": 5,
   "id": "11e95563-60bb-47b1-ae7f-aa08b611ce8e",
   "metadata": {},
   "outputs": [],
   "source": [
    "def strcat_ba(a,b):\n",
    "    assert type(a) is str, f\"The input 'a' is {type(a)} rather than a string\"\n",
    "    assert type(b) is str, f\"The input 'b' is {type(b)} rather than a string\"\n",
    "    return b + a"
   ]
  },
  {
   "cell_type": "markdown",
   "id": "909ef017-2239-4f2c-8e5e-8880696a36ad",
   "metadata": {},
   "source": [
    "**TEST CELL**"
   ]
  },
  {
   "cell_type": "code",
   "execution_count": 78,
   "id": "a60b5ef7-da8e-445e-87a7-057115ee9d1f",
   "metadata": {},
   "outputs": [
    {
     "name": "stdout",
     "output_type": "stream",
     "text": [
      "strcat_ba(\"fjruy\", \"sqx\") == \"sqxfjruy\"\n",
      "\n",
      "(Passed!)\n"
     ]
    }
   ],
   "source": [
    "def random_letter():\n",
    "    from random import choice\n",
    "    return choice('abcdefghijklmnopqrstuvwxyz')\n",
    "\n",
    "def random_string(n, fun=random_letter):\n",
    "    return ''.join([str(fun()) for _ in range(n)])\n",
    "\n",
    "a = random_string(5)\n",
    "b = random_string(3)\n",
    "c = strcat_ba(a, b)\n",
    "print('strcat_ba(\"{}\", \"{}\") == \"{}\"'.format(a, b, c))\n",
    "assert len(c) == len(a) + len(b), \"`c` has the wrong length: {len(c)} rather than {lenassert c[:len(b)] == b\"\n",
    "assert c[-len(a):] == a\n",
    "print(\"\\n(Passed!)\")\n"
   ]
  },
  {
   "cell_type": "markdown",
   "id": "770e3216-f973-4a94-956b-2f53fdcb48d3",
   "metadata": {},
   "source": [
    "## Exercise 3"
   ]
  },
  {
   "cell_type": "markdown",
   "id": "64446cd6-bc65-4549-b9e7-f89bcf736159",
   "metadata": {},
   "source": [
    "(strcat_list_test: 2 points). Complete the following function, strcat_list(L),\n",
    "which generalizes the previous function: given a list of strings, L[:], returns the concatenation of\n",
    "the strings in reverse order. For example:\n",
    "strcat_list(['abc', 'def', 'ghi']) == 'ghidefabc'"
   ]
  },
  {
   "cell_type": "code",
   "execution_count": 79,
   "id": "89863306-cfcd-44cb-9d51-a6eb6410569f",
   "metadata": {},
   "outputs": [],
   "source": [
    "def strcat_list(L):\n",
    "\n",
    "    # verify the input is a list\n",
    "    assert isinstance(L, list), f\"The input 'L' is {type(L)} rather than a list\"\n",
    "    \n",
    "    # verify the items of the list are strings\n",
    "    for item in L:\n",
    "        assert isinstance(item, str), f\"Item {item} is not a string\"\n",
    "\n",
    "        \n",
    "    result = \"\".join(L[::-1])\n",
    "    return result"
   ]
  },
  {
   "cell_type": "markdown",
   "id": "213a4da3-cbe8-4766-8bef-72196b34169d",
   "metadata": {},
   "source": [
    "**TEST CELL**"
   ]
  },
  {
   "cell_type": "code",
   "execution_count": 80,
   "id": "c4879420-9487-40e8-aaf1-617588a82c9d",
   "metadata": {},
   "outputs": [
    {
     "name": "stdout",
     "output_type": "stream",
     "text": [
      "L == ['ksz', 'emv', 'lhw', 'jzu', 'eda', 'jan']\n",
      "strcat_list(L) == 'janedajzulhwemvksz'\n",
      "\n",
      "(Passed!)\n"
     ]
    }
   ],
   "source": [
    "n = 3\n",
    "nL = 6\n",
    "L = [random_string(n) for _ in range(nL)]\n",
    "Lc = strcat_list(L)\n",
    "print('L == {}'.format(L))\n",
    "print('strcat_list(L) == \\'{}\\''.format(Lc))\n",
    "assert all([Lc[i*n:(i+1)*n] == L[nL-i-1] for i, x in zip(range(nL), L)])\n",
    "print(\"\\n(Passed!)\")"
   ]
  },
  {
   "cell_type": "markdown",
   "id": "eb4678a6-f23a-420c-88e4-b10fb980613c",
   "metadata": {},
   "source": [
    "## Exercise 4"
   ]
  },
  {
   "cell_type": "markdown",
   "id": "55cadbfe-601a-4bdd-b644-2807289fc897",
   "metadata": {},
   "source": [
    "(floor_fraction_test: 1 point). Suppose you are given two variables, a and b,\n",
    "whose values are the real numbers, a ≥ 0 (non-negative) and b > 0 (positive). Complete the\n",
    "function, floor_fraction(a, b) so that it returns ⌊\n",
    "a\n",
    "b\n",
    "⌋\n",
    ", that is, the floor of a\n",
    "b\n",
    ". The type of the\n",
    "returned value must be int (an integer).\n"
   ]
  },
  {
   "cell_type": "code",
   "execution_count": 61,
   "id": "3aa7ddcd-cdcf-48f3-ba41-6e9878073502",
   "metadata": {},
   "outputs": [],
   "source": [
    "def floor_fraction(a, b):\n",
    "    \n",
    "    # verify that a and b are non-negative real numbers\n",
    "    from numbers import Number\n",
    "    assert isinstance(a, Number) and a >= 0, \"a must be a non-negative integer\"\n",
    "    assert isinstance(b, Number) and b > 0, \"b must be a positive integer\"\n",
    "\n",
    "    return int(a//b)"
   ]
  },
  {
   "cell_type": "markdown",
   "id": "4eca417e-1dba-4bfb-9014-09e8836e4057",
   "metadata": {},
   "source": [
    "**TEST CELL**"
   ]
  },
  {
   "cell_type": "code",
   "execution_count": 75,
   "id": "ab61e1b1-c7dc-4208-beff-9447303ec7e5",
   "metadata": {},
   "outputs": [
    {
     "name": "stdout",
     "output_type": "stream",
     "text": [
      "floor_fraction(0.05453876843668071, 0.5714998178442711) == floor(0.09543094631666543) == 0\n",
      "\n",
      "(Passed!)\n"
     ]
    }
   ],
   "source": [
    "from random import random\n",
    "a = random()\n",
    "b = random()\n",
    "c = floor_fraction(a, b)\n",
    "print('floor_fraction({}, {}) == floor({}) == {}'.format(a, b, a/b, c))\n",
    "assert b*c <= a <= b*(c+1)\n",
    "assert type(c) is int, f\"type(c) == {type(c)} rather than `int`\"\n",
    "print('\\n(Passed!)')"
   ]
  },
  {
   "cell_type": "markdown",
   "id": "253cb5ba-fa0d-4ecb-8e45-1b1256cc548d",
   "metadata": {},
   "source": [
    "## Exercise 5"
   ]
  },
  {
   "cell_type": "markdown",
   "id": "42a67f15-766a-4f4d-be69-0b8031d3d4a6",
   "metadata": {},
   "source": [
    " (ceiling_fraction_test: 1 point). Complete the function, ceiling_fraction(a,\n",
    "b), which for any numeric inputs, a and b, corresponding to real numbers, a ≥ 0 and b > 0,\n",
    "returns ⌈\n",
    "a\n",
    "b\n",
    "⌉\n",
    ", that is, the ceiling of a\n",
    "b\n",
    ". The type of the returned value must be int."
   ]
  },
  {
   "cell_type": "code",
   "execution_count": 83,
   "id": "62994a88-3ac7-4615-9d6e-6b18e3ed5595",
   "metadata": {},
   "outputs": [],
   "source": [
    "def ceiling_fraction(a, b):\n",
    "    \n",
    "    # verify that a and b are non-negative real numbers\n",
    "    from numbers import Number\n",
    "    assert isinstance(a, Number) and a >= 0, \"a must be a non-negative integer\"\n",
    "    assert isinstance(b, Number) and b > 0, \"b must be a non-negative integer\"\n",
    "\n",
    "    result = a / b\n",
    "    if result > int(result):\n",
    "        return int(result) + 1\n",
    "    return int(result)"
   ]
  },
  {
   "cell_type": "markdown",
   "id": "b648b066-477e-4f6d-9b72-dae77e5e9196",
   "metadata": {},
   "source": [
    "**TEST CELL**"
   ]
  },
  {
   "cell_type": "code",
   "execution_count": 96,
   "id": "4ecbe505-7f05-45e7-b916-e0dfbdd65830",
   "metadata": {},
   "outputs": [
    {
     "name": "stdout",
     "output_type": "stream",
     "text": [
      "ceiling_fraction(0.5212098575952456, 0.7701783038595272) == ceiling(0.6767392108857809) == 1\n",
      "\n",
      "(Passed!)\n"
     ]
    }
   ],
   "source": [
    "from random import random\n",
    "a = random()\n",
    "b = random()\n",
    "c = ceiling_fraction(a, b)\n",
    "print('ceiling_fraction({}, {}) == ceiling({}) == {}'.format(a, b, a/b, c))\n",
    "assert b*(c-1) <= a <= b*c\n",
    "assert type(c) is int\n",
    "print(\"\\n(Passed!)\")"
   ]
  },
  {
   "cell_type": "markdown",
   "id": "587797d2-7d19-4f50-859c-fa5e30e7ec6f",
   "metadata": {},
   "source": [
    "## Exercise 6"
   ]
  },
  {
   "cell_type": "markdown",
   "id": "a7bdb866-df62-49fc-8b0b-bdb2b693700a",
   "metadata": {},
   "source": [
    "(report_exam_avg_test: 1 point). Let a, b, and c represent three exam scores as\n",
    "numerical values. Complete the function, report_exam_avg(a, b, c) so that it computes the\n",
    "average score (equally weighted) and returns the string, 'Your average score: XX', where XX is\n",
    "the average rounded to one decimal place. For example:\n",
    "report_exam_avg(100, 95, 80) == 'Your average score: 91.7'"
   ]
  },
  {
   "cell_type": "code",
   "execution_count": 106,
   "id": "58c24b90-a84f-4f5d-8617-19567a5feebf",
   "metadata": {},
   "outputs": [],
   "source": [
    "def report_exam_avg(a,b,c):\n",
    "\n",
    "    # assertions\n",
    "    from numbers import Number\n",
    "    assert isinstance(a, Number) and a >= 0, \"a must be a non-negative integer\"\n",
    "    assert isinstance(b, Number) and b >= 0, \"b must be a non-negative integer\"\n",
    "\n",
    "    result = round((a + b + c) / 3,1)\n",
    "\n",
    "    return \"Your average score: {}\".format(result)"
   ]
  },
  {
   "cell_type": "markdown",
   "id": "fe80f921-13ef-4e89-8bc8-6f46dc713faf",
   "metadata": {},
   "source": [
    "**TEST CELL**"
   ]
  },
  {
   "cell_type": "code",
   "execution_count": 108,
   "id": "8a1118a9-df10-45a5-a5b8-e7d7fef551d3",
   "metadata": {},
   "outputs": [
    {
     "name": "stdout",
     "output_type": "stream",
     "text": [
      "Your average score: 91.7\n",
      "Checking some additional randomly generated cases:\n",
      "75.28210688897687, 95.21246791114963, 15.955205152267649 -> 'Your average score: 62.1' [0.04992665079803752]\n",
      "6.481283751117683, 56.251693471108396, 2.476969488146774 -> 'Your average score: 21.7' [0.03664890345762236]\n",
      "14.315086051973502, 38.39673420564462, 49.36670239408261 -> 'Your average score: 34.0' [0.02617421723357438]\n",
      "24.91784496003413, 44.42739400373965, 63.7000575568727 -> 'Your average score: 44.3' [0.048432173548832225]\n",
      "62.028718875052476, 40.24194211646386, 45.73338014764167 -> 'Your average score: 49.3' [0.034680379719342604]\n",
      "97.4512633131133, 39.51647626936747, 76.28518436721107 -> 'Your average score: 71.1' [0.015692016769387845]\n",
      "36.690823065375575, 32.770740332967485, 9.534821395591454 -> 'Your average score: 26.3' [0.03212826464483479]\n",
      "69.01186117771478, 46.82548682759635, 49.19988182716716 -> 'Your average score: 55.0' [0.012409944159429642]\n",
      "94.98965317785093, 58.158512514839714, 41.96044524703958 -> 'Your average score: 65.0' [0.03620364657674221]\n",
      "98.40228564605938, 75.65129391949272, 44.82269508424912 -> 'Your average score: 73.0' [0.04124178339959409]\n",
      "\n",
      "(Passed!)\n"
     ]
    }
   ],
   "source": [
    "msg = report_exam_avg(100, 95, 80)\n",
    "print(msg)\n",
    "assert msg == 'Your average score: 91.7'\n",
    "print(\"Checking some additional randomly generated cases:\")\n",
    "for _ in range(10):\n",
    "    ex1 = random() * 100\n",
    "    ex2 = random() * 100\n",
    "    ex3 = random() * 100\n",
    "    msg = report_exam_avg(ex1, ex2, ex3)\n",
    "    ex_rounded_avg = float(msg.split()[-1])\n",
    "    abs_err = abs(ex_rounded_avg*3 - (ex1 + ex2 + ex3)) / 3\n",
    "    print(\"{}, {}, {} -> '{}' [{}]\".format(ex1, ex2, ex3, msg, abs_err))\n",
    "    assert abs_err <= 0.05\n",
    "print(\"\\n(Passed!)\")"
   ]
  }
 ],
 "metadata": {
  "kernelspec": {
   "display_name": "Python (py_gt_env)",
   "language": "python",
   "name": "py_gt_env"
  },
  "language_info": {
   "codemirror_mode": {
    "name": "ipython",
    "version": 3
   },
   "file_extension": ".py",
   "mimetype": "text/x-python",
   "name": "python",
   "nbconvert_exporter": "python",
   "pygments_lexer": "ipython3",
   "version": "3.13.1"
  }
 },
 "nbformat": 4,
 "nbformat_minor": 5
}
