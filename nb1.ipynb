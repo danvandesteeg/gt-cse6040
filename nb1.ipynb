{
 "cells": [
  {
   "cell_type": "markdown",
   "id": "0666fe8b-9b1d-418c-b729-f980d88752d4",
   "metadata": {},
   "source": [
    "0-basics\n",
    "\n",
    "1 Python review: Values, variables, types, lists, and strings\n",
    "These first few notebooks are a set of exercises designed to reinforce various aspects of Python\n",
    "programming.\n",
    "Study hint: Read the test code! You’ll notice that most of the exercises below have a place for\n",
    "you to code up your answer followed by a \"test cell.\" That’s a code cell that checks the output of\n",
    "your code to see whether it appears to produce correct results. You can often learn a lot by reading\n",
    "the test code. In fact, sometimes it gives you a hint about how to approach the problem. As such,\n",
    "we encourage you to try to read the test cells even if they seem cryptic, which is deliberate!\n",
    "Debugging tip: Read assertions. The test cells often run an assert statement to see whether\n",
    "some condition that it thinks should be true is true. If an assertion fails, look at the condition being\n",
    "checked and use that as a guide to help you debug. For example, if an assertion reads, assert a\n",
    "+ b == 3, and that fails, inspect the values and types of a and b to help determine why their sum\n",
    "does not equal 3.\n",
    "Exercise 0 (1 point). Run the code cell below. It should display the output string, Hello,\n",
    "world!."
   ]
  },
  {
   "cell_type": "code",
   "execution_count": 1,
   "id": "56ea0fcd-fa05-40a1-8f58-5394064d7351",
   "metadata": {},
   "outputs": [
    {
     "name": "stdout",
     "output_type": "stream",
     "text": [
      "Hello, world!\n"
     ]
    }
   ],
   "source": [
    "print(\"Hello, world!\")"
   ]
  },
  {
   "cell_type": "markdown",
   "id": "3a7e7337-5f91-4d90-9cd9-a8f0737e05d8",
   "metadata": {},
   "source": [
    "## Exercise 1"
   ]
  },
  {
   "cell_type": "markdown",
   "id": "4ba894f1-4c5e-4174-ad97-559edf70c868",
   "metadata": {},
   "source": [
    "(x_float_test: 1 point). Create a variable named x_float whose numerical value\n",
    "is one (1) and whose type is floating-point (i.e., float)."
   ]
  },
  {
   "cell_type": "code",
   "execution_count": 2,
   "id": "73e0c880-78f2-4410-a499-9b69a3e99b14",
   "metadata": {},
   "outputs": [],
   "source": [
    "x_float = 1.00"
   ]
  },
  {
   "cell_type": "markdown",
   "id": "37adc593-6c47-4883-8d33-ad9bbac45acf",
   "metadata": {},
   "source": [
    "**TEST CELL**"
   ]
  },
  {
   "cell_type": "code",
   "execution_count": 3,
   "id": "89b9ad35-65ea-41d3-b0ca-cc129d6bab51",
   "metadata": {},
   "outputs": [
    {
     "name": "stdout",
     "output_type": "stream",
     "text": [
      "(Passed!)\n"
     ]
    }
   ],
   "source": [
    "assert x_float == 1, f\"`x_float` has the wrong value ({x_float} rather than 1.0)\"\n",
    "assert type(x_float) is float,  f\"`type(x_float)` == {type(x_float)} rather than `float`\"\n",
    "print(\"(Passed!)\")"
   ]
  },
  {
   "cell_type": "markdown",
   "id": "e3482013-1a98-4a38-b423-081deb472b1a",
   "metadata": {},
   "source": [
    "## Exercise 2"
   ]
  },
  {
   "cell_type": "markdown",
   "id": "d827c0eb-c8e3-4337-9181-84cab145c589",
   "metadata": {},
   "source": [
    "(strcat_ba_test: 1 point). Complete the following function, strcat_ba(a, b), so\n",
    "that given two strings, a and b, it returns the concatenation of b followed by a (pay attention to\n",
    "the order in these instructions!)."
   ]
  },
  {
   "cell_type": "code",
   "execution_count": 4,
   "id": "11e95563-60bb-47b1-ae7f-aa08b611ce8e",
   "metadata": {},
   "outputs": [],
   "source": [
    "def strcat_ba(a,b):\n",
    "    assert type(a) is str, f\"The input 'a' is {type(a)} rather than a string\"\n",
    "    assert type(b) is str, f\"The input 'b' is {type(b)} rather than a string\"\n",
    "    return b + a"
   ]
  },
  {
   "cell_type": "markdown",
   "id": "909ef017-2239-4f2c-8e5e-8880696a36ad",
   "metadata": {},
   "source": [
    "**TEST CELL**"
   ]
  },
  {
   "cell_type": "code",
   "execution_count": 5,
   "id": "a60b5ef7-da8e-445e-87a7-057115ee9d1f",
   "metadata": {},
   "outputs": [
    {
     "name": "stdout",
     "output_type": "stream",
     "text": [
      "strcat_ba(\"xhxrz\", \"dcr\") == \"dcrxhxrz\"\n",
      "\n",
      "(Passed!)\n"
     ]
    }
   ],
   "source": [
    "def random_letter():\n",
    "    from random import choice\n",
    "    return choice('abcdefghijklmnopqrstuvwxyz')\n",
    "\n",
    "def random_string(n, fun=random_letter):\n",
    "    return ''.join([str(fun()) for _ in range(n)])\n",
    "\n",
    "a = random_string(5)\n",
    "b = random_string(3)\n",
    "c = strcat_ba(a, b)\n",
    "print('strcat_ba(\"{}\", \"{}\") == \"{}\"'.format(a, b, c))\n",
    "assert len(c) == len(a) + len(b), \"`c` has the wrong length: {len(c)} rather than {lenassert c[:len(b)] == b\"\n",
    "assert c[-len(a):] == a\n",
    "print(\"\\n(Passed!)\")\n"
   ]
  },
  {
   "cell_type": "markdown",
   "id": "770e3216-f973-4a94-956b-2f53fdcb48d3",
   "metadata": {},
   "source": [
    "## Exercise 3"
   ]
  },
  {
   "cell_type": "markdown",
   "id": "64446cd6-bc65-4549-b9e7-f89bcf736159",
   "metadata": {},
   "source": [
    "(strcat_list_test: 2 points). Complete the following function, strcat_list(L),\n",
    "which generalizes the previous function: given a list of strings, L[:], returns the concatenation of\n",
    "the strings in reverse order. For example:\n",
    "strcat_list(['abc', 'def', 'ghi']) == 'ghidefabc'"
   ]
  },
  {
   "cell_type": "code",
   "execution_count": 6,
   "id": "89863306-cfcd-44cb-9d51-a6eb6410569f",
   "metadata": {},
   "outputs": [],
   "source": [
    "def strcat_list(L):\n",
    "\n",
    "    # verify the input is a list\n",
    "    assert isinstance(L, list), f\"The input 'L' is {type(L)} rather than a list\"\n",
    "    \n",
    "    # verify the items of the list are strings\n",
    "    for item in L:\n",
    "        assert isinstance(item, str), f\"Item {item} is not a string\"\n",
    "\n",
    "        \n",
    "    result = \"\".join(L[::-1])\n",
    "    return result"
   ]
  },
  {
   "cell_type": "markdown",
   "id": "213a4da3-cbe8-4766-8bef-72196b34169d",
   "metadata": {},
   "source": [
    "**TEST CELL**"
   ]
  },
  {
   "cell_type": "code",
   "execution_count": 7,
   "id": "c4879420-9487-40e8-aaf1-617588a82c9d",
   "metadata": {},
   "outputs": [
    {
     "name": "stdout",
     "output_type": "stream",
     "text": [
      "L == ['mhm', 'whc', 'tsi', 'puv', 'rha', 'sbj']\n",
      "strcat_list(L) == 'sbjrhapuvtsiwhcmhm'\n",
      "\n",
      "(Passed!)\n"
     ]
    }
   ],
   "source": [
    "n = 3\n",
    "nL = 6\n",
    "L = [random_string(n) for _ in range(nL)]\n",
    "Lc = strcat_list(L)\n",
    "print('L == {}'.format(L))\n",
    "print('strcat_list(L) == \\'{}\\''.format(Lc))\n",
    "assert all([Lc[i*n:(i+1)*n] == L[nL-i-1] for i, x in zip(range(nL), L)])\n",
    "print(\"\\n(Passed!)\")"
   ]
  },
  {
   "cell_type": "markdown",
   "id": "eb4678a6-f23a-420c-88e4-b10fb980613c",
   "metadata": {},
   "source": [
    "## Exercise 4"
   ]
  },
  {
   "cell_type": "markdown",
   "id": "55cadbfe-601a-4bdd-b644-2807289fc897",
   "metadata": {},
   "source": [
    "(floor_fraction_test: 1 point). Suppose you are given two variables, a and b,\n",
    "whose values are the real numbers, a ≥ 0 (non-negative) and b > 0 (positive). Complete the\n",
    "function, floor_fraction(a, b) so that it returns ⌊\n",
    "a\n",
    "b\n",
    "⌋\n",
    ", that is, the floor of a\n",
    "b\n",
    ". The type of the\n",
    "returned value must be int (an integer).\n"
   ]
  },
  {
   "cell_type": "code",
   "execution_count": 8,
   "id": "3aa7ddcd-cdcf-48f3-ba41-6e9878073502",
   "metadata": {},
   "outputs": [],
   "source": [
    "def floor_fraction(a, b):\n",
    "    \n",
    "    # verify that a and b are non-negative real numbers\n",
    "    from numbers import Number\n",
    "    assert isinstance(a, Number) and a >= 0, \"a must be a non-negative integer\"\n",
    "    assert isinstance(b, Number) and b > 0, \"b must be a positive integer\"\n",
    "\n",
    "    return int(a//b)"
   ]
  },
  {
   "cell_type": "markdown",
   "id": "4eca417e-1dba-4bfb-9014-09e8836e4057",
   "metadata": {},
   "source": [
    "**TEST CELL**"
   ]
  },
  {
   "cell_type": "code",
   "execution_count": 9,
   "id": "ab61e1b1-c7dc-4208-beff-9447303ec7e5",
   "metadata": {},
   "outputs": [
    {
     "name": "stdout",
     "output_type": "stream",
     "text": [
      "floor_fraction(0.7156270590488361, 0.008081133749661906) == floor(88.55527964486123) == 88\n",
      "\n",
      "(Passed!)\n"
     ]
    }
   ],
   "source": [
    "from random import random\n",
    "a = random()\n",
    "b = random()\n",
    "c = floor_fraction(a, b)\n",
    "print('floor_fraction({}, {}) == floor({}) == {}'.format(a, b, a/b, c))\n",
    "assert b*c <= a <= b*(c+1)\n",
    "assert type(c) is int, f\"type(c) == {type(c)} rather than `int`\"\n",
    "print('\\n(Passed!)')"
   ]
  },
  {
   "cell_type": "markdown",
   "id": "253cb5ba-fa0d-4ecb-8e45-1b1256cc548d",
   "metadata": {},
   "source": [
    "## Exercise 5"
   ]
  },
  {
   "cell_type": "markdown",
   "id": "42a67f15-766a-4f4d-be69-0b8031d3d4a6",
   "metadata": {},
   "source": [
    " (ceiling_fraction_test: 1 point). Complete the function, ceiling_fraction(a,\n",
    "b), which for any numeric inputs, a and b, corresponding to real numbers, a ≥ 0 and b > 0,\n",
    "returns ⌈\n",
    "a\n",
    "b\n",
    "⌉\n",
    ", that is, the ceiling of a\n",
    "b\n",
    ". The type of the returned value must be int."
   ]
  },
  {
   "cell_type": "code",
   "execution_count": 10,
   "id": "62994a88-3ac7-4615-9d6e-6b18e3ed5595",
   "metadata": {},
   "outputs": [],
   "source": [
    "def ceiling_fraction(a, b):\n",
    "    \n",
    "    # verify that a and b are non-negative real numbers\n",
    "    from numbers import Number\n",
    "    assert isinstance(a, Number) and a >= 0, \"a must be a non-negative integer\"\n",
    "    assert isinstance(b, Number) and b > 0, \"b must be a non-negative integer\"\n",
    "\n",
    "    result = a / b\n",
    "    if result > int(result):\n",
    "        return int(result) + 1\n",
    "    return int(result)"
   ]
  },
  {
   "cell_type": "markdown",
   "id": "b648b066-477e-4f6d-9b72-dae77e5e9196",
   "metadata": {},
   "source": [
    "**TEST CELL**"
   ]
  },
  {
   "cell_type": "code",
   "execution_count": 11,
   "id": "4ecbe505-7f05-45e7-b916-e0dfbdd65830",
   "metadata": {},
   "outputs": [
    {
     "name": "stdout",
     "output_type": "stream",
     "text": [
      "ceiling_fraction(0.5818856201727314, 0.6678195148262338) == ceiling(0.871321677870012) == 1\n",
      "\n",
      "(Passed!)\n"
     ]
    }
   ],
   "source": [
    "from random import random\n",
    "a = random()\n",
    "b = random()\n",
    "c = ceiling_fraction(a, b)\n",
    "print('ceiling_fraction({}, {}) == ceiling({}) == {}'.format(a, b, a/b, c))\n",
    "assert b*(c-1) <= a <= b*c\n",
    "assert type(c) is int\n",
    "print(\"\\n(Passed!)\")"
   ]
  },
  {
   "cell_type": "markdown",
   "id": "587797d2-7d19-4f50-859c-fa5e30e7ec6f",
   "metadata": {},
   "source": [
    "## Exercise 6"
   ]
  },
  {
   "cell_type": "markdown",
   "id": "a7bdb866-df62-49fc-8b0b-bdb2b693700a",
   "metadata": {},
   "source": [
    "(report_exam_avg_test: 1 point). Let a, b, and c represent three exam scores as\n",
    "numerical values. Complete the function, report_exam_avg(a, b, c) so that it computes the\n",
    "average score (equally weighted) and returns the string, 'Your average score: XX', where XX is\n",
    "the average rounded to one decimal place. For example:\n",
    "report_exam_avg(100, 95, 80) == 'Your average score: 91.7'"
   ]
  },
  {
   "cell_type": "code",
   "execution_count": 12,
   "id": "58c24b90-a84f-4f5d-8617-19567a5feebf",
   "metadata": {},
   "outputs": [],
   "source": [
    "def report_exam_avg(a,b,c):\n",
    "\n",
    "    # assertions\n",
    "    from numbers import Number\n",
    "    assert isinstance(a, Number) and a >= 0, \"a must be a non-negative integer\"\n",
    "    assert isinstance(b, Number) and b >= 0, \"b must be a non-negative integer\"\n",
    "\n",
    "    result = round((a + b + c) / 3,1)\n",
    "\n",
    "    return \"Your average score: {}\".format(result)"
   ]
  },
  {
   "cell_type": "markdown",
   "id": "fe80f921-13ef-4e89-8bc8-6f46dc713faf",
   "metadata": {},
   "source": [
    "**TEST CELL**"
   ]
  },
  {
   "cell_type": "code",
   "execution_count": 13,
   "id": "8a1118a9-df10-45a5-a5b8-e7d7fef551d3",
   "metadata": {},
   "outputs": [
    {
     "name": "stdout",
     "output_type": "stream",
     "text": [
      "Your average score: 91.7\n",
      "Checking some additional randomly generated cases:\n",
      "95.14719363880346, 41.47324579591082, 69.52997085291062 -> 'Your average score: 68.7' [0.01680342920829503]\n",
      "72.09026242359825, 83.65569378968122, 27.676928749286112 -> 'Your average score: 61.1' [0.04096165418852138]\n",
      "95.38952357135344, 44.678741601058114, 15.981995081358392 -> 'Your average score: 52.0' [0.016753417923306795]\n",
      "65.6860351561404, 67.9976521861156, 6.721521210812941 -> 'Your average score: 46.8' [0.001736184356322686]\n",
      "97.00611596358958, 84.0633897484832, 32.41124704334071 -> 'Your average score: 71.2' [0.03974908152883927]\n",
      "49.61358766844023, 24.87972719604845, 50.820717039922094 -> 'Your average score: 41.8' [0.028656031863074343]\n",
      "21.388300666795303, 95.45931194419553, 75.93957173801013 -> 'Your average score: 64.3' [0.0376052169996702]\n",
      "94.09210029512317, 20.26979039948653, 35.81357744246898 -> 'Your average score: 50.1' [0.04151062097377197]\n",
      "63.798321445044095, 41.02497104889215, 34.903186551107666 -> 'Your average score: 46.6' [0.0245069849853697]\n",
      "74.0025554670369, 4.312946633209203, 40.103441675399154 -> 'Your average score: 39.5' [0.027018741451579825]\n",
      "\n",
      "(Passed!)\n"
     ]
    }
   ],
   "source": [
    "msg = report_exam_avg(100, 95, 80)\n",
    "print(msg)\n",
    "assert msg == 'Your average score: 91.7'\n",
    "print(\"Checking some additional randomly generated cases:\")\n",
    "for _ in range(10):\n",
    "    ex1 = random() * 100\n",
    "    ex2 = random() * 100\n",
    "    ex3 = random() * 100\n",
    "    msg = report_exam_avg(ex1, ex2, ex3)\n",
    "    ex_rounded_avg = float(msg.split()[-1])\n",
    "    abs_err = abs(ex_rounded_avg*3 - (ex1 + ex2 + ex3)) / 3\n",
    "    print(\"{}, {}, {} -> '{}' [{}]\".format(ex1, ex2, ex3, msg, abs_err))\n",
    "    assert abs_err <= 0.05\n",
    "print(\"\\n(Passed!)\")"
   ]
  },
  {
   "cell_type": "markdown",
   "id": "7438750f-b9aa-43a1-aa9d-173da693f3a3",
   "metadata": {},
   "source": [
    "## Exercise 7"
   ]
  },
  {
   "cell_type": "markdown",
   "id": "34e35ff4-6f06-47a4-9b71-27d035a07485",
   "metadata": {},
   "source": [
    "(count_word_lengths_test: 2 points). Write a function count_word_lengths(s)\n",
    "that, given a string consisting of words separated by spaces, returns a list containing the length of\n",
    "each word. Words will consist of lowercase alphabetic characters, and they may be separated by\n",
    "multiple consecutive spaces. If a string is empty or has no spaces, the function should return an\n",
    "empty list.\n",
    "For instance, in this code sample,\n",
    "5\n",
    "\n",
    "count_word_lengths('the quick brown fox jumped over the lazy dog') == [3, 5, 5, 3, 6...]\n",
    "the input string consists of nine (9) words whose respective lengths are shown in the list."
   ]
  },
  {
   "cell_type": "code",
   "execution_count": 19,
   "id": "94d4ef68-247b-4bbd-bbec-470f704bed66",
   "metadata": {},
   "outputs": [
    {
     "ename": "SyntaxError",
     "evalue": "invalid syntax (2194235394.py, line 6)",
     "output_type": "error",
     "traceback": [
      "\u001b[1;36m  Cell \u001b[1;32mIn[19], line 6\u001b[1;36m\u001b[0m\n\u001b[1;33m    assert l.isalpha() for l in phrase,\u001b[0m\n\u001b[1;37m                       ^\u001b[0m\n\u001b[1;31mSyntaxError\u001b[0m\u001b[1;31m:\u001b[0m invalid syntax\n"
     ]
    }
   ],
   "source": [
    "# still need to add assertions!!!!\n",
    "\n",
    "\n",
    "def count_word_lengths(phrase):\n",
    "\n",
    "    assert l.isalpha() for l in phrase,\n",
    "    results = []\n",
    "    \n",
    "    for word in phrase.split():\n",
    "        results.append(len(word))\n",
    "\n",
    "    return results"
   ]
  },
  {
   "cell_type": "code",
   "execution_count": 16,
   "id": "0e3f1f97-7c3c-42de-8c4b-75266bef77e0",
   "metadata": {},
   "outputs": [
    {
     "name": "stdout",
     "output_type": "stream",
     "text": [
      "Test 1: count_word_lengths('the quick brown fox jumped over the lazy dog') == [3, 5, 5, 3, 6, 4, 3, 4, 3]\n"
     ]
    }
   ],
   "source": [
    "# Test 1: Example\n",
    "qbf_str = 'the quick brown fox jumped over the lazy dog'\n",
    "qbf_lens = count_word_lengths(qbf_str)\n",
    "print(\"Test 1: count_word_lengths('{}') == {}\".format(qbf_str, qbf_lens))\n",
    "assert qbf_lens == [3, 5, 5, 3, 6, 4, 3, 4, 3]"
   ]
  },
  {
   "cell_type": "code",
   "execution_count": 17,
   "id": "5b8635d3-5af0-476d-99a3-f2bc5d5a91d9",
   "metadata": {},
   "outputs": [
    {
     "name": "stdout",
     "output_type": "stream",
     "text": [
      "Test 2: count_word_lengths('y iz ro t s iaiuqgsy l  l fw zomklvgw mt') == '[1, 2, 2, 1, 1, 8, 1, 1, 2, 8, 2]'\n",
      " => 'y'\n",
      " => 'iz'\n",
      " => 'ro'\n",
      " => 't'\n",
      " => 's'\n",
      " => 'iaiuqgsy'\n",
      " => 'l'\n",
      " => 'l'\n",
      " => 'fw'\n",
      " => 'zomklvgw'\n",
      " => 'mt'\n"
     ]
    }
   ],
   "source": [
    "# Test 2: Random strings\n",
    "from random import choice # 3.5.2 does not have `choices()` (available in 3.6+)\n",
    "#return ''.join([choice('abcdefghijklmnopqrstuvwxyz') for _ in range(n)])\n",
    "def random_letter_or_space(pr_space=0.15):\n",
    "    from random import choice, random\n",
    "    is_space = (random() <= pr_space)\n",
    "    if is_space:\n",
    "        return ' '\n",
    "    return random_letter()\n",
    "    \n",
    "S_LEN = 40\n",
    "W_SPACE = 1 / 6\n",
    "rand_str = random_string(S_LEN, fun=random_letter_or_space)\n",
    "rand_lens = count_word_lengths(rand_str)\n",
    "print(\"Test 2: count_word_lengths('{}') == '{}'\".format(rand_str, rand_lens))\n",
    "c = 0\n",
    "while c < len(rand_str) and rand_str[c] == ' ':\n",
    "    c += 1\n",
    "for k in rand_lens:\n",
    "    print(\" => '{}'\".format (rand_str[c:c+k]))\n",
    "    assert (c+k) == len(rand_str) or rand_str[c+k] == ' '\n",
    "    c += k\n",
    "    while c < len(rand_str) and rand_str[c] == ' ':\n",
    "        c += 1"
   ]
  },
  {
   "cell_type": "code",
   "execution_count": 18,
   "id": "d8032406-f9f1-4357-95e8-5833baf57097",
   "metadata": {},
   "outputs": [
    {
     "name": "stdout",
     "output_type": "stream",
     "text": [
      "Test 3: Empty strings...\n",
      "[3]\n",
      "\n",
      "(Passed!)\n"
     ]
    }
   ],
   "source": [
    "# Test 3: Empty string\n",
    "print(\"Test 3: Empty strings...\")\n",
    "assert count_word_lengths('') == []\n",
    "assert count_word_lengths(' ') == []\n",
    "print(count_word_lengths('the'))\n",
    "print(\"\\n(Passed!)\")"
   ]
  }
 ],
 "metadata": {
  "kernelspec": {
   "display_name": "Python (py_gt_env)",
   "language": "python",
   "name": "py_gt_env"
  },
  "language_info": {
   "codemirror_mode": {
    "name": "ipython",
    "version": 3
   },
   "file_extension": ".py",
   "mimetype": "text/x-python",
   "name": "python",
   "nbconvert_exporter": "python",
   "pygments_lexer": "ipython3",
   "version": "3.13.1"
  }
 },
 "nbformat": 4,
 "nbformat_minor": 5
}
