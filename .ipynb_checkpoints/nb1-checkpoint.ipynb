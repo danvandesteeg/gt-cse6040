{
 "cells": [
  {
   "cell_type": "markdown",
   "id": "0666fe8b-9b1d-418c-b729-f980d88752d4",
   "metadata": {},
   "source": [
    "0-basics\n",
    "\n",
    "1 Python review: Values, variables, types, lists, and strings\n",
    "These first few notebooks are a set of exercises designed to reinforce various aspects of Python\n",
    "programming.\n",
    "Study hint: Read the test code! You’ll notice that most of the exercises below have a place for\n",
    "you to code up your answer followed by a \"test cell.\" That’s a code cell that checks the output of\n",
    "your code to see whether it appears to produce correct results. You can often learn a lot by reading\n",
    "the test code. In fact, sometimes it gives you a hint about how to approach the problem. As such,\n",
    "we encourage you to try to read the test cells even if they seem cryptic, which is deliberate!\n",
    "Debugging tip: Read assertions. The test cells often run an assert statement to see whether\n",
    "some condition that it thinks should be true is true. If an assertion fails, look at the condition being\n",
    "checked and use that as a guide to help you debug. For example, if an assertion reads, assert a\n",
    "+ b == 3, and that fails, inspect the values and types of a and b to help determine why their sum\n",
    "does not equal 3.\n",
    "Exercise 0 (1 point). Run the code cell below. It should display the output string, Hello,\n",
    "world!."
   ]
  },
  {
   "cell_type": "code",
   "execution_count": 1,
   "id": "56ea0fcd-fa05-40a1-8f58-5394064d7351",
   "metadata": {},
   "outputs": [
    {
     "name": "stdout",
     "output_type": "stream",
     "text": [
      "Hello, world!\n"
     ]
    }
   ],
   "source": [
    "print(\"Hello, world!\")"
   ]
  },
  {
   "cell_type": "markdown",
   "id": "3a7e7337-5f91-4d90-9cd9-a8f0737e05d8",
   "metadata": {},
   "source": [
    "**Exercise 1**"
   ]
  },
  {
   "cell_type": "markdown",
   "id": "4ba894f1-4c5e-4174-ad97-559edf70c868",
   "metadata": {},
   "source": [
    "(x_float_test: 1 point). Create a variable named x_float whose numerical value\n",
    "is one (1) and whose type is floating-point (i.e., float)."
   ]
  },
  {
   "cell_type": "code",
   "execution_count": 14,
   "id": "73e0c880-78f2-4410-a499-9b69a3e99b14",
   "metadata": {},
   "outputs": [],
   "source": [
    "x_float = 1.00"
   ]
  },
  {
   "cell_type": "code",
   "execution_count": 15,
   "id": "488729d9-33a9-4fa5-a203-91a01cc7ea5d",
   "metadata": {},
   "outputs": [
    {
     "name": "stdout",
     "output_type": "stream",
     "text": [
      "1.0\n"
     ]
    },
    {
     "data": {
      "text/plain": [
       "float"
      ]
     },
     "execution_count": 15,
     "metadata": {},
     "output_type": "execute_result"
    }
   ],
   "source": [
    "print(x_float)\n",
    "type(x_float)"
   ]
  },
  {
   "cell_type": "code",
   "execution_count": 17,
   "id": "89b9ad35-65ea-41d3-b0ca-cc129d6bab51",
   "metadata": {},
   "outputs": [
    {
     "name": "stdout",
     "output_type": "stream",
     "text": [
      "(Passed!)\n"
     ]
    }
   ],
   "source": [
    "assert x_float == 1, f\"`x_float` has the wrong value ({x_float} rather than 1.0)\"\n",
    "assert type(x_float) is float,  f\"`type(x_float)` == {type(x_float)} rather than `float`\"\n",
    "print(\"(Passed!)\")"
   ]
  },
  {
   "cell_type": "markdown",
   "id": "e3482013-1a98-4a38-b423-081deb472b1a",
   "metadata": {},
   "source": [
    "**Exercise 2**"
   ]
  },
  {
   "cell_type": "markdown",
   "id": "d827c0eb-c8e3-4337-9181-84cab145c589",
   "metadata": {},
   "source": [
    "(strcat_ba_test: 1 point). Complete the following function, strcat_ba(a, b), so\n",
    "that given two strings, a and b, it returns the concatenation of b followed by a (pay attention to\n",
    "the order in these instructions!)."
   ]
  },
  {
   "cell_type": "code",
   "execution_count": 20,
   "id": "11e95563-60bb-47b1-ae7f-aa08b611ce8e",
   "metadata": {},
   "outputs": [],
   "source": [
    "def strcat_ba(a,b):\n",
    "    assert type(a) is str, f\"The input 'a' is {type(a)} rather than a string\"\n",
    "    assert type(b) is str, f\"The input 'b' is {type(b)} rather than a string\"\n",
    "    return b + a"
   ]
  },
  {
   "cell_type": "code",
   "execution_count": 28,
   "id": "a60b5ef7-da8e-445e-87a7-057115ee9d1f",
   "metadata": {},
   "outputs": [
    {
     "name": "stdout",
     "output_type": "stream",
     "text": [
      "strcat_ba(\"oxnok\", \"yqc\") == \"yqcoxnok\"\n",
      "\n",
      "(Passed!)\n"
     ]
    }
   ],
   "source": [
    "## Test Cell ##\n",
    "def random_letter():\n",
    "    from random import choice\n",
    "    return choice('abcdefghijklmnopqrstuvwxyz')\n",
    "\n",
    "def random_string(n, fun=random_letter):\n",
    "    return ''.join([str(fun()) for _ in range(n)])\n",
    "\n",
    "a = random_string(5)\n",
    "b = random_string(3)\n",
    "c = strcat_ba(a, b)\n",
    "print('strcat_ba(\"{}\", \"{}\") == \"{}\"'.format(a, b, c))\n",
    "assert len(c) == len(a) + len(b), \"`c` has the wrong length: {len(c)} rather than {lenassert c[:len(b)] == b\"\n",
    "assert c[-len(a):] == a\n",
    "print(\"\\n(Passed!)\")\n"
   ]
  },
  {
   "cell_type": "code",
   "execution_count": null,
   "id": "bf1bf063-cf3a-4c8f-9b00-36c429e46a49",
   "metadata": {},
   "outputs": [],
   "source": []
  }
 ],
 "metadata": {
  "kernelspec": {
   "display_name": "Python (py_gt_env)",
   "language": "python",
   "name": "py_gt_env"
  },
  "language_info": {
   "codemirror_mode": {
    "name": "ipython",
    "version": 3
   },
   "file_extension": ".py",
   "mimetype": "text/x-python",
   "name": "python",
   "nbconvert_exporter": "python",
   "pygments_lexer": "ipython3",
   "version": "3.13.1"
  }
 },
 "nbformat": 4,
 "nbformat_minor": 5
}
